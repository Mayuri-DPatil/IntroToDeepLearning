{
 "cells": [
  {
   "cell_type": "code",
   "execution_count": 2,
   "metadata": {},
   "outputs": [],
   "source": [
    "import numpy as np\n",
    "import pandas as pd\n",
    "import matplotlib.pyplot as plt\n",
    "import random"
   ]
  },
  {
   "cell_type": "code",
   "execution_count": 3,
   "metadata": {},
   "outputs": [],
   "source": [
    "\n",
    "dataset = pd.read_csv('LR.csv')\n",
    "X = dataset.iloc[:,1].values\n",
    "y = dataset.iloc[:,2].values\n"
   ]
  },
  {
   "cell_type": "code",
   "execution_count": 4,
   "metadata": {},
   "outputs": [],
   "source": [
    "from sklearn.model_selection import train_test_split\n",
    "X_train, X_test, y_train, y_test = train_test_split(X, y, test_size = 0.2, random_state = 0)"
   ]
  },
  {
   "cell_type": "code",
   "execution_count": 5,
   "metadata": {},
   "outputs": [],
   "source": [
    "class LinearRegressor:\n",
    "    \n",
    "    def __init__(self,learning_rate = 0.1):\n",
    "        self.learning_rate = learning_rate\n",
    "        \n",
    "    def fit(self,train_dataset,train_y,n_iters):\n",
    "        self.weight = random.random()\n",
    "        self.bias = random.random()\n",
    "        self.train_dataset = train_dataset\n",
    "        self.train_y = train_y\n",
    "        self.batch_size = 1\n",
    "        for _ in range(n_iters):\n",
    "            for step_i in range((train_y.shape[0]//self.batch_size)):\n",
    "                self.fit_model(step_i)\n",
    "                \n",
    "    \n",
    "    def predict(self,X):\n",
    "        \n",
    "        return (np.ones(X.shape[0])*self.weight).T@X + self.bias\n",
    "    \n",
    "    def get_weights(self):\n",
    "        \n",
    "        return self.weight,self.bias\n",
    "    \n",
    "    def fit_model(self,step):\n",
    "        #YOUR CODE HERE\n",
    "        \n",
    "        y_pred = self.train_dataset[self.batch_size*step : self.batch_size*step + self.batch_size]@(np.ones(self.batch_size)*self.weight) + self.bias\n",
    "        \n",
    "        mse_loss_grad = (y_pred-self.train_y[self.batch_size*step : self.batch_size*step + self.batch_size].reshape(self.batch_size,1))/self.batch_size\n",
    "        \n",
    "        self.weight =  self.weight - (self.train_dataset[self.batch_size*step : self.batch_size*step + self.batch_size].T @ mse_loss_grad)*self.learning_rate\n",
    "        \n",
    "        self.bias = self.bias - np.mean((y_pred-self.train_y[self.batch_size*step : self.batch_size*step + self.batch_size].reshape(self.batch_size,1)))*self.learning_rate\n",
    "        "
   ]
  },
  {
   "cell_type": "code",
   "execution_count": 6,
   "metadata": {
    "scrolled": true
   },
   "outputs": [],
   "source": [
    "regressor = LinearRegressor(0.0001)\n"
   ]
  },
  {
   "cell_type": "code",
   "execution_count": 7,
   "metadata": {},
   "outputs": [],
   "source": [
    "regressor.fit(X_train,y_train,n_iters = 1)"
   ]
  },
  {
   "cell_type": "code",
   "execution_count": null,
   "metadata": {},
   "outputs": [],
   "source": []
  },
  {
   "cell_type": "code",
   "execution_count": 8,
   "metadata": {},
   "outputs": [],
   "source": [
    "w,b = regressor.get_weights()\n",
    "y_pred = [i*w + b for i in X_test]\n",
    "X_pred = [i for i in X_test]"
   ]
  },
  {
   "cell_type": "code",
   "execution_count": null,
   "metadata": {},
   "outputs": [],
   "source": []
  },
  {
   "cell_type": "code",
   "execution_count": 11,
   "metadata": {
    "scrolled": true
   },
   "outputs": [
    {
     "data": {
      "text/plain": [
       "<matplotlib.collections.PathCollection at 0x7fd2ca5517b8>"
      ]
     },
     "execution_count": 11,
     "metadata": {},
     "output_type": "execute_result"
    },
    {
     "data": {
      "image/png": "[encoded data removed]",
      "text/plain": [
       "<Figure size 432x288 with 1 Axes>"
      ]
     },
     "metadata": {
      "needs_background": "light"
     },
     "output_type": "display_data"
    }
   ],
   "source": [
    "plt.plot(X_pred,y_pred,color = 'red')\n",
    "plt.scatter(X_test,y_test)"
   ]
  },
  {
   "cell_type": "code",
   "execution_count": null,
   "metadata": {},
   "outputs": [],
   "source": []
  }
 ],
 "metadata": {
  "kernelspec": {
   "display_name": "Python 3",
   "language": "python",
   "name": "python3"
  },
  "language_info": {
   "codemirror_mode": {
    "name": "ipython",
    "version": 3
   },
   "file_extension": ".py",
   "mimetype": "text/x-python",
   "name": "python",
   "nbconvert_exporter": "python",
   "pygments_lexer": "ipython3",
   "version": "3.6.8"
  }
 },
 "nbformat": 4,
 "nbformat_minor": 2
}
